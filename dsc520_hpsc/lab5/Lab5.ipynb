{
 "cells": [
  {
   "cell_type": "code",
   "execution_count": 1,
   "id": "fb65f2aa",
   "metadata": {},
   "outputs": [],
   "source": [
    "#Import the required packages\n",
    "\n",
    "import numpy as np\n",
    "from matplotlib import pyplot as plt"
   ]
  },
  {
   "cell_type": "code",
   "execution_count": 2,
   "id": "9b3d214a",
   "metadata": {},
   "outputs": [],
   "source": [
    "# Load the file\n",
    "\n",
    "r = np.loadtxt(\"random.dat\")\n"
   ]
  },
  {
   "cell_type": "code",
   "execution_count": 3,
   "id": "711de386",
   "metadata": {},
   "outputs": [
    {
     "data": {
      "image/png": "[encoded data removed]",
      "text/plain": [
       "<Figure size 432x288 with 1 Axes>"
      ]
     },
     "metadata": {
      "needs_background": "light"
     },
     "output_type": "display_data"
    },
    {
     "data": {
      "text/plain": [
       "<Figure size 432x288 with 0 Axes>"
      ]
     },
     "metadata": {},
     "output_type": "display_data"
    }
   ],
   "source": [
    "# PLot the histogram\n",
    "\n",
    "plt.hist(r, bins = 100)\n",
    "\n",
    "plt.show()\n",
    "plt.savefig(\"histogram_lab5.png\")"
   ]
  },
  {
   "cell_type": "markdown",
   "id": "b524384f",
   "metadata": {},
   "source": [
    "\n",
    "\n",
    "\n",
    "The lines look uniform"
   ]
  }
 ],
 "metadata": {
  "kernelspec": {
   "display_name": "Python 3 (ipykernel)",
   "language": "python",
   "name": "python3"
  },
  "language_info": {
   "codemirror_mode": {
    "name": "ipython",
    "version": 3
   },
   "file_extension": ".py",
   "mimetype": "text/x-python",
   "name": "python",
   "nbconvert_exporter": "python",
   "pygments_lexer": "ipython3",
   "version": "3.9.12"
  }
 },
 "nbformat": 4,
 "nbformat_minor": 5
}
