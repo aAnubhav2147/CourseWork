{
 "cells": [
  {
   "cell_type": "raw",
   "id": "3be29005",
   "metadata": {},
   "source": [
    "                                              Homework 4\n",
    "   \n",
    "   \n",
    "By: Anubhav Shankar (01951462)\n",
    "   \n",
    "   \n",
    "After running the serial code on Stampede2, a time estimate of ~142 hours was obtained by converting the runtime obtained in seconds to hours and consequently multiplying it by 10000000. \n",
    "\n",
    "As, we'll be running this for 10000000 samples across 272 cores, the above time was divided by 272 and multiplied by 10000000 to get the CPU time of 31.2 mins.\n",
    "\n",
    "Subsequently, a job script was executed on Stampede2 with a request of 1 hours and 30 mins to obtain a Global minimum of -968.391331. I think that the global minimum is the minimum that we obtained in Problem 1, and can be obtained by running the job multiple times.\n"
   ]
  }
 ],
 "metadata": {
  "kernelspec": {
   "display_name": "Python 3 (ipykernel)",
   "language": "python",
   "name": "python3"
  },
  "language_info": {
   "codemirror_mode": {
    "name": "ipython",
    "version": 3
   },
   "file_extension": ".py",
   "mimetype": "text/x-python",
   "name": "python",
   "nbconvert_exporter": "python",
   "pygments_lexer": "ipython3",
   "version": "3.9.12"
  }
 },
 "nbformat": 4,
 "nbformat_minor": 5
}
