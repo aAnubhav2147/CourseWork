{
 "cells": [
  {
   "cell_type": "markdown",
   "id": "a11b1e4e",
   "metadata": {},
   "source": [
    "    Anubhav Shankar (01951462)"
   ]
  },
  {
   "cell_type": "markdown",
   "id": "47e7d1b7",
   "metadata": {},
   "source": [
    "                                      Monte - Carlo Integration Pseudo Code\n",
    "                                    \n",
    "\n",
    "    double random_number(){\n",
    "\n",
    "\n",
    "        //Generate uniform random number\n",
    "        \n",
    "        return (double)rand()/((double)RAND_MAX+1); \n",
    "        \n",
    "        //We need to cast the rand() to double as it is an int by default.\n",
    "        \n",
    " \n",
    "       This is particularly required in this case as we expect our output to be a double.\n",
    " \n",
    " \n",
    "     }\n",
    "\n",
    "\n",
    "    double func(double x){\n",
    "\n",
    "\n",
    "    //This function will be used to pass the integrand that we need to approximate\n",
    "\n",
    "\n",
    "    }\n",
    "\n",
    "\n",
    "    double monteCarlo(double lower, double upper, double N){\n",
    "\n",
    "          //General function to execute the Monte Carlo Approximation\n",
    "          //Can be used for any integrand and any bound\n",
    " \n",
    "         double apx = 0.0; \n",
    "         //This will store the approximate results of the integrand for every iteration \n",
    "         //within our defined bounds\n",
    "\n",
    "         \n",
    "         double sum = 0.0;  \n",
    "         //This stores the incremented value for every iteration. \n",
    "         //This is basically V of the MonteCarlo integration\n",
    "\n",
    "        \n",
    "        for(int i = 0; i<N; i++){\n",
    "        \n",
    "               //Generate a random number within the limits of the integration\n",
    "               \n",
    "                 double rand_num = random_number();\n",
    "                 \n",
    "                 double func_value = func(rand_num);\n",
    "\n",
    "                 sum+=func_value;\n",
    "        }\n",
    "       \n",
    "\n",
    "      return apx = (upper - lower) * (sum/N); \n",
    "      // N is the number of iterations for this function. It can take any value\n",
    "      \n",
    "    }\n",
    "\n",
    "\n",
    "    int main(){\n",
    "    \n",
    "        \n",
    "       call the Monte Carlo integration function here\n",
    "       \n",
    "\n",
    "       return 0;\n",
    "       \n",
    "       \n",
    "    }"
   ]
  },
  {
   "cell_type": "code",
   "execution_count": 17,
   "id": "be917f5f",
   "metadata": {},
   "outputs": [],
   "source": [
    "# Load required packages\n",
    "\n",
    "import numpy as np\n",
    "import matplotlib.pyplot as plt\n",
    "import sklearn as sk\n",
    "from sklearn.linear_model import LinearRegression\n",
    "import pandas as pd"
   ]
  },
  {
   "cell_type": "code",
   "execution_count": 18,
   "id": "23d908d1",
   "metadata": {},
   "outputs": [],
   "source": [
    "# Read in the .dat files\n",
    "montecarlo = np.loadtxt(\"MonteCarlo.dat\")\n",
    "montecarlo1 = np.loadtxt(\"MonteCarlo1.dat\")\n",
    "montecarlo2 = np.loadtxt(\"MonteCarlo2.dat\")\n",
    "montecarlo3 = np.loadtxt(\"MonteCarlo3.dat\")\n",
    "montecarlo4 = np.loadtxt(\"MonteCarlo4.dat\")\n",
    "trap = np.loadtxt(\"mydata.txt\")\n",
    "\n",
    "# Create two atomic vectors/variables to store the dat file contents\n",
    "x = montecarlo[:,0]\n",
    "y = montecarlo[:,2]\n",
    "\n",
    "x1 = montecarlo1[:,0]\n",
    "y1 = montecarlo1[:,2]\n",
    "\n",
    "x2 = montecarlo1[:,0]\n",
    "y2 = montecarlo2[:,2]\n",
    "\n",
    "x3 = montecarlo3[:,0]\n",
    "y3 = montecarlo3[:,2]\n",
    "\n",
    "x4 = montecarlo4[:,0]\n",
    "y4 = montecarlo4[:,2]\n",
    "\n",
    "xt = trap[0:29,0]\n",
    "yt = trap[0:29,1]"
   ]
  },
  {
   "cell_type": "code",
   "execution_count": 19,
   "id": "87db4c87",
   "metadata": {},
   "outputs": [],
   "source": [
    "# Smoothing out the Monte Carlo error\n",
    "\n",
    "y_add = y + y1 + y2 + y3 + y4\n",
    "\n",
    "y_mean = y_add/5 #Divide it by the number of iterations and not the number of trials"
   ]
  },
  {
   "cell_type": "code",
   "execution_count": 20,
   "id": "8add9c25",
   "metadata": {},
   "outputs": [
    {
     "data": {
      "image/png": "[encoded data removed]",
      "text/plain": [
       "<Figure size 432x288 with 1 Axes>"
      ]
     },
     "metadata": {
      "needs_background": "light"
     },
     "output_type": "display_data"
    }
   ],
   "source": [
    "# Create a log-log plot\n",
    "\n",
    "plt.loglog(x, y,'b*',label='MonteCarlo')\n",
    "plt.loglog(x1, y1,'r*',label='MC Iter1')\n",
    "plt.loglog(x2, y2,'g*',label='MC Iter2')\n",
    "plt.loglog(x3, y3,'y*',label='MC Iter3')\n",
    "plt.loglog(x, y_mean,'b',label='MonteCarlo Mean Error')\n",
    "plt.loglog(xt, yt,'r',label='Trapezoidal')\n",
    "plt.legend(loc=3)\n",
    "plt.xlabel(\"N\")\n",
    "plt.ylabel(\"Error\")\n",
    "\n",
    "plt.savefig(\"plot.png\")"
   ]
  },
  {
   "cell_type": "markdown",
   "id": "91279113",
   "metadata": {},
   "source": [
    "**From the above plot we see that the Trapezoidal function's error decomposes at a much faster rate than the Monte-Carlo approximation**. **This shows that the Trapezoidal rule is a higher order method. However, Trapezoidal rule is not suitable for higher dimensional problem solving where the associated features and complexity increase manyfold.**"
   ]
  },
  {
   "cell_type": "markdown",
   "id": "94780eda",
   "metadata": {},
   "source": [
    "Now, we see that the integrand approximation follows a power law. To fit this non-linear form into a linear function we'd need to take the logarithm of the Monte-Carlo Mean Error. The error finction then behaves like the equation below:\n",
    "\n",
    "    \n",
    "                                    log(E) = B + A * log(N)                -(1)\n",
    "\n",
    "(1) looks like a linear regression equation where, 'B' is the intercept and 'A' is the coefficient of an independent variable/slope of the equation. In this case, the independent variable is 'N' which is the number of iterations.\n",
    "\n",
    "Let us now run a linear regression model to with the mean error (E) as the dependent variable and the iterations (N) as the independent variable.\n",
    "                            "
   ]
  },
  {
   "cell_type": "code",
   "execution_count": 21,
   "id": "d1e28c5d",
   "metadata": {},
   "outputs": [],
   "source": [
    "model = LinearRegression().fit(np.log(x.reshape(len(x),1)), np.log(y_mean.reshape(len(y_mean),1)))\n",
    "\n",
    "# Sklearn expects the input to be a 2-D array. However, in our case, we are using the number of iterations i.e. N and \n",
    "# the error values i.e. E as 1-D arrays. Hence, we need to reshape our input to be between the length of our 1-D array and \n",
    "# scale it to 1."
   ]
  },
  {
   "cell_type": "code",
   "execution_count": 22,
   "id": "654401ee",
   "metadata": {},
   "outputs": [
    {
     "data": {
      "text/plain": [
       "array([[-0.50702882]])"
      ]
     },
     "execution_count": 22,
     "metadata": {},
     "output_type": "execute_result"
    }
   ],
   "source": [
    "model.coef_"
   ]
  },
  {
   "cell_type": "code",
   "execution_count": 23,
   "id": "31864e76",
   "metadata": {},
   "outputs": [
    {
     "data": {
      "text/plain": [
       "array([-1.34251826])"
      ]
     },
     "execution_count": 23,
     "metadata": {},
     "output_type": "execute_result"
    }
   ],
   "source": [
    "model.intercept_"
   ]
  },
  {
   "cell_type": "markdown",
   "id": "49c71f80",
   "metadata": {},
   "source": [
    "By running the Linear Regression, we see that the value of **B = -1.34251826 and A = -0.50702882**. Substituting the values in (1) we get the following final equation -\n",
    "\n",
    "                                          log(E) = -1.34251826 + -0.50702882 * log(N)\n",
    "                                "
   ]
  },
  {
   "cell_type": "markdown",
   "id": "20b9dd53",
   "metadata": {},
   "source": [
    "Let us now time our program for different values of N and see the trend."
   ]
  },
  {
   "cell_type": "code",
   "execution_count": 24,
   "id": "41f82981",
   "metadata": {},
   "outputs": [],
   "source": [
    "run_time = np.loadtxt(\"mc_runtime.dat\")\n",
    "n = run_time[:,0]\n",
    "t = run_time[:,1]"
   ]
  },
  {
   "cell_type": "code",
   "execution_count": 25,
   "id": "53d0715a",
   "metadata": {},
   "outputs": [
    {
     "data": {
      "image/png": "[encoded data removed]",
      "text/plain": [
       "<Figure size 432x288 with 1 Axes>"
      ]
     },
     "metadata": {
      "needs_background": "light"
     },
     "output_type": "display_data"
    }
   ],
   "source": [
    "plt.plot(n, t,'r',label='Runtime')\n",
    "plt.legend(loc=0)\n",
    "plt.xlabel(\"N\")\n",
    "plt.ylabel(\"Runtime\")\n",
    "\n",
    "plt.savefig(\"N vs. Runtime.png\")"
   ]
  },
  {
   "cell_type": "markdown",
   "id": "a2e3674c",
   "metadata": {},
   "source": [
    "From the above plot we see that there is a **linear relationship between the number of points (N) and the runtime**. However, let us take a lgarithmic view for the same arguments and see if it holds true."
   ]
  },
  {
   "cell_type": "code",
   "execution_count": 26,
   "id": "917b2da8",
   "metadata": {},
   "outputs": [
    {
     "data": {
      "text/plain": [
       "Text(0, 0.5, 'log(Runtime)')"
      ]
     },
     "execution_count": 26,
     "metadata": {},
     "output_type": "execute_result"
    },
    {
     "data": {
      "image/png": "[encoded data removed]",
      "text/plain": [
       "<Figure size 432x288 with 1 Axes>"
      ]
     },
     "metadata": {
      "needs_background": "light"
     },
     "output_type": "display_data"
    }
   ],
   "source": [
    "plt.loglog(n, t,'r',label='Runtime_Log')\n",
    "plt.legend(loc=0)\n",
    "plt.xlabel(\"log(N)\")\n",
    "plt.ylabel(\"log(Runtime)\")"
   ]
  },
  {
   "cell_type": "markdown",
   "id": "bc26e4e2",
   "metadata": {},
   "source": [
    "We get the same linear trend. **As the program took ~9s to run for 2 raised to the power 30 iterations and given the linear trend of the program runtime, I'd estimate that, for 2 raised to the power 32 iterations, it'd take somewhere between 10-11s.**\n",
    "\n",
    "The trend seems right to me as in our program, we only have one for-loop and there is no nesting perse which by default makes this program of the order **O(n)** given that it takes constant time to generate a random number and the main iteration is the calculation of the integrand once the random number is passed."
   ]
  },
  {
   "cell_type": "code",
   "execution_count": 27,
   "id": "15e71966",
   "metadata": {},
   "outputs": [],
   "source": [
    " ############################################ SNOWFALL ESTIMATION #############################################################"
   ]
  },
  {
   "cell_type": "code",
   "execution_count": 28,
   "id": "8a3f2208",
   "metadata": {},
   "outputs": [
    {
     "name": "stdout",
     "output_type": "stream",
     "text": [
      "[[2.00000000e+00 7.06062000e-01 2.93938000e-01]\n",
      " [4.00000000e+00 1.22884000e+00 2.28840000e-01]\n",
      " [8.00000000e+00 8.59505000e-01 1.40495000e-01]\n",
      " [1.60000000e+01 1.03734900e+00 3.73490000e-02]\n",
      " [3.20000000e+01 1.15995300e+00 1.59953000e-01]\n",
      " [6.40000000e+01 9.56636000e-01 4.33640000e-02]\n",
      " [1.28000000e+02 8.19549000e-01 1.80451000e-01]\n",
      " [2.56000000e+02 9.49911000e-01 5.00890000e-02]\n",
      " [5.12000000e+02 9.84584000e-01 1.54160000e-02]\n",
      " [1.02400000e+03 9.97503000e-01 2.49700000e-03]\n",
      " [2.04800000e+03 9.82209000e-01 1.77910000e-02]\n",
      " [4.09600000e+03 9.63956000e-01 3.60440000e-02]\n",
      " [8.19200000e+03 9.64252000e-01 3.57480000e-02]\n",
      " [1.63840000e+04 9.88701000e-01 1.12990000e-02]\n",
      " [3.27680000e+04 9.98651000e-01 1.34900000e-03]\n",
      " [6.55360000e+04 1.00016800e+00 1.68000000e-04]\n",
      " [1.31072000e+05 9.96391000e-01 3.60900000e-03]\n",
      " [2.62144000e+05 9.96647000e-01 3.35300000e-03]\n",
      " [5.24288000e+05 9.98165000e-01 1.83500000e-03]\n",
      " [1.04857600e+06 9.97879000e-01 2.12100000e-03]\n",
      " [2.09715200e+06 9.98326000e-01 1.67400000e-03]\n",
      " [4.19430400e+06 9.99986000e-01 1.40000000e-05]\n",
      " [8.38860800e+06 1.00008700e+00 8.70000000e-05]\n",
      " [1.67772160e+07 1.00031400e+00 3.14000000e-04]\n",
      " [3.35544320e+07 9.99843000e-01 1.57000000e-04]\n",
      " [6.71088640e+07 9.99966000e-01 3.40000000e-05]\n",
      " [1.34217728e+08 1.00012500e+00 1.25000000e-04]\n",
      " [2.68435456e+08 1.00003700e+00 3.70000000e-05]\n",
      " [5.36870912e+08 9.99956000e-01 4.40000000e-05]\n",
      " [1.07374182e+09 9.99925000e-01 7.50000000e-05]]\n"
     ]
    }
   ],
   "source": [
    "# Load the snowfall data\n",
    "\n",
    "sf = np.loadtxt(\"Snowfall.dat\")\n",
    "print(sf)"
   ]
  },
  {
   "cell_type": "code",
   "execution_count": 29,
   "id": "e1b3f19c",
   "metadata": {},
   "outputs": [
    {
     "name": "stdout",
     "output_type": "stream",
     "text": [
      "               N  Estimate     Error\n",
      "0   2.000000e+00  0.706062  0.293938\n",
      "1   4.000000e+00  1.228840  0.228840\n",
      "2   8.000000e+00  0.859505  0.140495\n",
      "3   1.600000e+01  1.037349  0.037349\n",
      "4   3.200000e+01  1.159953  0.159953\n",
      "5   6.400000e+01  0.956636  0.043364\n",
      "6   1.280000e+02  0.819549  0.180451\n",
      "7   2.560000e+02  0.949911  0.050089\n",
      "8   5.120000e+02  0.984584  0.015416\n",
      "9   1.024000e+03  0.997503  0.002497\n",
      "10  2.048000e+03  0.982209  0.017791\n",
      "11  4.096000e+03  0.963956  0.036044\n",
      "12  8.192000e+03  0.964252  0.035748\n",
      "13  1.638400e+04  0.988701  0.011299\n",
      "14  3.276800e+04  0.998651  0.001349\n",
      "15  6.553600e+04  1.000168  0.000168\n",
      "16  1.310720e+05  0.996391  0.003609\n",
      "17  2.621440e+05  0.996647  0.003353\n",
      "18  5.242880e+05  0.998165  0.001835\n",
      "19  1.048576e+06  0.997879  0.002121\n",
      "20  2.097152e+06  0.998326  0.001674\n",
      "21  4.194304e+06  0.999986  0.000014\n",
      "22  8.388608e+06  1.000087  0.000087\n",
      "23  1.677722e+07  1.000314  0.000314\n",
      "24  3.355443e+07  0.999843  0.000157\n",
      "25  6.710886e+07  0.999966  0.000034\n",
      "26  1.342177e+08  1.000125  0.000125\n",
      "27  2.684355e+08  1.000037  0.000037\n",
      "28  5.368709e+08  0.999956  0.000044\n",
      "29  1.073742e+09  0.999925  0.000075\n"
     ]
    }
   ],
   "source": [
    "# Convert to a pandas dataframe for ease of use\n",
    "\n",
    "sf_df = pd.DataFrame(sf,columns = ['N', 'Estimate', 'Error'])\n",
    "\n",
    "print(sf_df)"
   ]
  },
  {
   "cell_type": "code",
   "execution_count": 30,
   "id": "d09704d6",
   "metadata": {},
   "outputs": [
    {
     "data": {
      "text/plain": [
       "0.9861825333333333"
      ]
     },
     "execution_count": 30,
     "metadata": {},
     "output_type": "execute_result"
    }
   ],
   "source": [
    "np.mean(sf_df['Estimate'])"
   ]
  },
  {
   "cell_type": "code",
   "execution_count": 31,
   "id": "88f38354",
   "metadata": {},
   "outputs": [
    {
     "data": {
      "text/plain": [
       "0.04227566666666666"
      ]
     },
     "execution_count": 31,
     "metadata": {},
     "output_type": "execute_result"
    }
   ],
   "source": [
    "np.mean(sf_df['Error'])"
   ]
  },
  {
   "cell_type": "code",
   "execution_count": 32,
   "id": "a4406d23",
   "metadata": {},
   "outputs": [
    {
     "data": {
      "text/plain": [
       "0.9982455"
      ]
     },
     "execution_count": 32,
     "metadata": {},
     "output_type": "execute_result"
    }
   ],
   "source": [
    "np.median(sf_df['Estimate'])"
   ]
  },
  {
   "cell_type": "markdown",
   "id": "8af42e02",
   "metadata": {},
   "source": [
    "The snowfall estimation model given by Eq.(3) in the problem statement should converge to one (1) for the bounds [0,10]. While we get the average snowfall of ~1 inch from the above execution, a better way to judge the model is to run the integrand over multiple function values and if the 'Estimate' converges to ~1 that should be a good indicator of the model's effectiveness.\n",
    "\n",
    "Mean, while a useful measure of central tendency, happens to be more volatile. Hence, we should look at the median of our observations which is also ~1. \n",
    "\n",
    "So, by the virtue of the above observations we can say that the model has a **high degree of reliability**."
   ]
  }
 ],
 "metadata": {
  "kernelspec": {
   "display_name": "Python 3 (ipykernel)",
   "language": "python",
   "name": "python3"
  },
  "language_info": {
   "codemirror_mode": {
    "name": "ipython",
    "version": 3
   },
   "file_extension": ".py",
   "mimetype": "text/x-python",
   "name": "python",
   "nbconvert_exporter": "python",
   "pygments_lexer": "ipython3",
   "version": "3.9.12"
  }
 },
 "nbformat": 4,
 "nbformat_minor": 5
}
